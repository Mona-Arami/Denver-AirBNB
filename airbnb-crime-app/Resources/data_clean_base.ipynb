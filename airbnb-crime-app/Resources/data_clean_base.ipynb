{
 "cells": [
  {
   "cell_type": "code",
   "execution_count": 14,
   "metadata": {},
   "outputs": [],
   "source": [
    "# psycopg\n",
    "import psycopg2\n",
    "import pandas as pd\n",
    "import numpy as np\n",
    "import os\n",
    "import sqlalchemy\n",
    "from sqlalchemy import create_engine, MetaData\n",
    "from sqlalchemy.ext.declarative import declarative_base\n",
    "from sqlalchemy import Column, Integer, String, Numeric, Text, Float"
   ]
  },
  {
   "cell_type": "code",
   "execution_count": 15,
   "metadata": {},
   "outputs": [],
   "source": [
    "# csv file\n",
    "csvfile1 = \"listings.csv\"\n",
    "csvfile2 = \"crime_2019.csv\"\n",
    "csvfile3 = \"reviews.csv\""
   ]
  },
  {
   "cell_type": "code",
   "execution_count": 16,
   "metadata": {},
   "outputs": [],
   "source": [
    "# read csv file into pandas dataframe\n",
    "listings_df = pd.read_csv(csvfile1)\n",
    "crime_df = pd.read_csv(csvfile2)\n",
    "reviews_df = pd.read_csv(csvfile3)"
   ]
  },
  {
   "cell_type": "code",
   "execution_count": 17,
   "metadata": {},
   "outputs": [],
   "source": [
    "# Create an engine to the postgres database\n",
    "\n",
    "engine = create_engine(\"sqlite:///airbnb_crime_dataset.sqlite\")"
   ]
  },
  {
   "cell_type": "code",
   "execution_count": 18,
   "metadata": {},
   "outputs": [],
   "source": [
    "# Create a connection to the engine called `conn`\n",
    "conn = engine.connect()"
   ]
  },
  {
   "cell_type": "code",
   "execution_count": 19,
   "metadata": {
    "scrolled": true
   },
   "outputs": [
    {
     "data": {
      "text/plain": [
       "{'id': 360,\n",
       " 'host_name': 'Jennifer & Giovanni',\n",
       " 'host_response_time': 'within an hour',\n",
       " 'host_is_superhost': 't',\n",
       " 'neighbourhood': 'Highland',\n",
       " 'neighbourhood_cleansed': 'Highland',\n",
       " 'zipcode': 80211.0,\n",
       " 'latitude': 39.76703,\n",
       " 'longitude': -105.00256,\n",
       " 'property_type': 'Guesthouse',\n",
       " 'room_type': 'Entire home/apt',\n",
       " 'accommodates': 5,\n",
       " 'bathrooms': 1.0,\n",
       " 'bedrooms': 2.0,\n",
       " 'beds': 2.0,\n",
       " 'square_feet': nan,\n",
       " 'price': '$140.00 ',\n",
       " 'number_of_reviews': 48,\n",
       " 'last_review': '3/29/19',\n",
       " 'review_scores_rating': 100.0}"
      ]
     },
     "execution_count": 19,
     "metadata": {},
     "output_type": "execute_result"
    }
   ],
   "source": [
    "# Use Orient='records' to create a list of data to write\n",
    "# http://pandas-docs.github.io/pandas-docs-travis/io.html#orient-options\n",
    "\n",
    "listings_data = listings_df.to_dict(orient='records')\n",
    "crime_data = crime_df.to_dict(orient='records')\n",
    "reviews_data = reviews_df.to_dict(orient='records')\n",
    "\n",
    "\n",
    "listings_data[1]"
   ]
  },
  {
   "cell_type": "code",
   "execution_count": 20,
   "metadata": {},
   "outputs": [],
   "source": [
    "# Create a connection to the engine called `conn`\n",
    "conn = engine.connect()"
   ]
  },
  {
   "cell_type": "code",
   "execution_count": 21,
   "metadata": {},
   "outputs": [],
   "source": [
    "# Use `declarative_base` from SQLAlchemy to model the listing table as an ORM class\n",
    "Base = declarative_base()\n",
    "\n",
    "class Listings(Base):\n",
    "    __tablename__ = 'listings'\n",
    "\n",
    "    id = Column(Integer, primary_key=True)\n",
    "    host_name = Column(String(255))\n",
    "    host_response_time = Column(String(255))\n",
    "    host_is_superhost = Column(String(255))\n",
    "    neighbourhood = Column(String(255))\n",
    "    neighbourhood_cleansed = Column(String(255))\n",
    "    zipcode = Column(Float)\n",
    "    latitude = Column(Float)\n",
    "    longitude = Column(Float)\n",
    "    property_type = Column(String(255))\n",
    "    room_type = Column(String(255))\n",
    "    accommodates = Column(Integer)\n",
    "    bathrooms = Column(Float)\n",
    "    bedrooms = Column(Float)\n",
    "    beds = Column(Float)\n",
    "    square_feet = Column(String(255))\n",
    "    price = Column(String(255))\n",
    "    number_of_reviews = Column(Integer)\n",
    "    last_review = Column(String(255))\n",
    "    review_scores_rating = Column(Float)\n",
    "    \n",
    "    \n",
    "#     def __repr__(self):\n",
    "#         return f\"id={self.id}, name={self.name}\""
   ]
  },
  {
   "cell_type": "code",
   "execution_count": 28,
   "metadata": {},
   "outputs": [],
   "source": [
    "# Use `declarative_base` from SQLAlchemy to model the listing table as an ORM class\n",
    "Base = declarative_base()\n",
    "\n",
    "class Crime(Base):\n",
    "    __tablename__ = 'crime'\n",
    "\n",
    "    id = Column(Integer, primary_key=True)\n",
    "    OFFENSE_CATEGORY_ID = Column(String(255))\n",
    "    GEO_LON = Column(Float)\n",
    "    GEO_LAT = Column(Float)\n",
    "    NEIGHBORHOOD_ID = Column(String(255))\n",
    "    \n",
    "    \n",
    "    def __repr__(self):\n",
    "        return f\"id={self.id}, name={self.name}\""
   ]
  },
  {
   "cell_type": "code",
   "execution_count": 38,
   "metadata": {},
   "outputs": [],
   "source": [
    "Base = declarative_base()\n",
    "\n",
    "class Reviews(Base):\n",
    "    __tablename__ = 'reviews'\n",
    "\n",
    "    id = Column(Integer, primary_key=True)\n",
    "    listing_id = Column(Integer)\n",
    "    date = Column(String(255))\n",
    "    comments = Column(String(1024))\n",
    "    \n",
    "    def __repr__(self):\n",
    "        return f\"id={self.id}, name={self.name}\""
   ]
  },
  {
   "cell_type": "code",
   "execution_count": 39,
   "metadata": {},
   "outputs": [],
   "source": [
    "# Use `create_all` to create the demographics table in the database\n",
    "Base.metadata.drop_all(engine)\n",
    "Base.metadata.create_all(engine)"
   ]
  },
  {
   "cell_type": "code",
   "execution_count": 40,
   "metadata": {},
   "outputs": [],
   "source": [
    "metadata = MetaData(bind=engine)\n",
    "metadata.reflect()"
   ]
  },
  {
   "cell_type": "code",
   "execution_count": 24,
   "metadata": {},
   "outputs": [],
   "source": [
    "listings_table = sqlalchemy.Table('listings', metadata, autoload=True)"
   ]
  },
  {
   "cell_type": "code",
   "execution_count": 32,
   "metadata": {},
   "outputs": [],
   "source": [
    "crime_table = sqlalchemy.Table('crime', metadata, autoload=True)"
   ]
  },
  {
   "cell_type": "code",
   "execution_count": 41,
   "metadata": {},
   "outputs": [],
   "source": [
    "reviews_table = sqlalchemy.Table('reviews', metadata, autoload=True)"
   ]
  },
  {
   "cell_type": "code",
   "execution_count": 25,
   "metadata": {},
   "outputs": [
    {
     "data": {
      "text/plain": [
       "<sqlalchemy.engine.result.ResultProxy at 0x11fa31860>"
      ]
     },
     "execution_count": 25,
     "metadata": {},
     "output_type": "execute_result"
    }
   ],
   "source": [
    "# Use `table.delete()` to remove any existing data.\n",
    "# Note that this is a convenience function so that you can re-run the example code multiple times.\n",
    "# You would not likely do this step in production.\n",
    "### BEGIN SOLUTION\n",
    "conn.execute(listings_table.delete())\n",
    "### END SOLUTION"
   ]
  },
  {
   "cell_type": "code",
   "execution_count": 33,
   "metadata": {},
   "outputs": [
    {
     "data": {
      "text/plain": [
       "<sqlalchemy.engine.result.ResultProxy at 0x11ec08ba8>"
      ]
     },
     "execution_count": 33,
     "metadata": {},
     "output_type": "execute_result"
    }
   ],
   "source": [
    "conn.execute(crime_table.delete())"
   ]
  },
  {
   "cell_type": "code",
   "execution_count": 42,
   "metadata": {},
   "outputs": [
    {
     "data": {
      "text/plain": [
       "<sqlalchemy.engine.result.ResultProxy at 0x11ec12780>"
      ]
     },
     "execution_count": 42,
     "metadata": {},
     "output_type": "execute_result"
    }
   ],
   "source": [
    "conn.execute(reviews_table.delete())"
   ]
  },
  {
   "cell_type": "code",
   "execution_count": 26,
   "metadata": {},
   "outputs": [
    {
     "data": {
      "text/plain": [
       "<sqlalchemy.engine.result.ResultProxy at 0x11ec08b00>"
      ]
     },
     "execution_count": 26,
     "metadata": {},
     "output_type": "execute_result"
    }
   ],
   "source": [
    "# Use `table.insert()` to insert the data into the table\n",
    "### BEGIN SOLUTION\n",
    "conn.execute(listings_table.insert(), listings_data)\n",
    "### END SOLUTION"
   ]
  },
  {
   "cell_type": "code",
   "execution_count": 34,
   "metadata": {},
   "outputs": [
    {
     "data": {
      "text/plain": [
       "<sqlalchemy.engine.result.ResultProxy at 0x11fdbc780>"
      ]
     },
     "execution_count": 34,
     "metadata": {},
     "output_type": "execute_result"
    }
   ],
   "source": [
    "conn.execute(crime_table.insert(), crime_data)"
   ]
  },
  {
   "cell_type": "code",
   "execution_count": 43,
   "metadata": {},
   "outputs": [
    {
     "data": {
      "text/plain": [
       "<sqlalchemy.engine.result.ResultProxy at 0x1314ab7b8>"
      ]
     },
     "execution_count": 43,
     "metadata": {},
     "output_type": "execute_result"
    }
   ],
   "source": [
    "conn.execute(reviews_table.insert(), reviews_data)"
   ]
  },
  {
   "cell_type": "code",
   "execution_count": 45,
   "metadata": {},
   "outputs": [
    {
     "data": {
      "text/plain": [
       "[(177, 'Joe', 'within an hour', 't', 'Virginia Village', 'Virginia Village', 80246.0, 39.69585, -104.92582, 'Guesthouse', 'Entire home/apt', 2, 1.0, 1.0, 1.0, None, '$56.00 ', 39, '3/24/19', 94.0),\n",
       " (360, 'Jennifer & Giovanni', 'within an hour', 't', 'Highland', 'Highland', 80211.0, 39.76703, -105.00256, 'Guesthouse', 'Entire home/apt', 5, 1.0, 2.0, 2.0, None, '$140.00 ', 48, '3/29/19', 100.0),\n",
       " (590, 'Jill', 'within an hour', 't', 'North Park Hill', 'North Park Hill', 80207.0, 39.753609999999995, -104.91237, 'House', 'Private room', 3, 1.0, 1.0, 1.0, None, '$61.00 ', 565, '3/27/19', 97.0),\n",
       " (592, 'Jill', 'within an hour', 't', 'North Park Hill', 'North Park Hill', 80207.0, 39.75438, -104.91156000000001, 'House', 'Private room', 2, 1.0, 1.0, 1.0, None, '$42.00 ', 147, '3/22/19', 97.0),\n",
       " (686, 'Alexandra', 'within an hour', 'f', 'North Capitol Hill', 'North Capitol Hill', 80203.0, 39.74503, -104.97756000000001, 'House', 'Private room', 2, 2.0, 1.0, 1.0, None, '$70.00 ', 236, '4/16/19', 95.0)]"
      ]
     },
     "execution_count": 45,
     "metadata": {},
     "output_type": "execute_result"
    }
   ],
   "source": [
    "# Test that the insert works by fetching the first 5 rows. \n",
    "conn.execute(\"select * from listings limit 5\").fetchall()"
   ]
  },
  {
   "cell_type": "code",
   "execution_count": 46,
   "metadata": {},
   "outputs": [
    {
     "data": {
      "text/plain": [
       "[(1, 'robbery', -104.8887503, 39.7398543, 'east-colfax'),\n",
       " (2, 'auto-theft', -105.03111899999999, 39.76453970000001, 'west-highland'),\n",
       " (3, 'larceny', -104.9590553, 39.7403303, 'city-park'),\n",
       " (4, 'public-disorder', -104.825985, 39.797799100000006, 'montbello'),\n",
       " (5, 'drug-alcohol', -105.0153483, 39.730808, 'lincoln-park')]"
      ]
     },
     "execution_count": 46,
     "metadata": {},
     "output_type": "execute_result"
    }
   ],
   "source": [
    "conn.execute(\"select * from crime limit 5\").fetchall()"
   ]
  },
  {
   "cell_type": "code",
   "execution_count": 47,
   "metadata": {},
   "outputs": [
    {
     "data": {
      "text/plain": [
       "[(1, 177, '9/4/16', 'Great place to stay! Definitely a tiny home, but still cozy and comfortable. Pretty fun to try it out for a couple nights for the two of us. Joe was helpful and friendly. Destinations were always less than a 20min drive and lots of parks nearby! Super fun stay :)'),\n",
       " (2, 177, '9/13/16', \"Joe was very friendly and gave us all the information we needed. The house was exactly as described on the site. It was fun and thought provoking experiencing a 100% Eco-friendly space. We plan on staying here again next time we're in Denver!\"),\n",
       " (3, 177, '9/14/16', 'Amazing property and Joe was a great host! Even offered to walk my dog while we were out! Will definitely be back'),\n",
       " (4, 177, '9/19/16', 'Joe was a great host, the description of this tiny house was spot on.  It was definitely a small space but well laid out and very convenient.  I would recommend a stay there.'),\n",
       " (5, 177, '9/22/16', 'He welcomes us when we first arrived and gave great recommendations for dinner/breakfast ')]"
      ]
     },
     "execution_count": 47,
     "metadata": {},
     "output_type": "execute_result"
    }
   ],
   "source": [
    "\n",
    "conn.execute(\"select * from reviews limit 5\").fetchall()"
   ]
  },
  {
   "cell_type": "code",
   "execution_count": null,
   "metadata": {},
   "outputs": [],
   "source": []
  },
  {
   "cell_type": "code",
   "execution_count": null,
   "metadata": {},
   "outputs": [],
   "source": []
  },
  {
   "cell_type": "code",
   "execution_count": null,
   "metadata": {},
   "outputs": [],
   "source": []
  }
 ],
 "metadata": {
  "kernelspec": {
   "display_name": "Python 3",
   "language": "python",
   "name": "python3"
  },
  "language_info": {
   "codemirror_mode": {
    "name": "ipython",
    "version": 3
   },
   "file_extension": ".py",
   "mimetype": "text/x-python",
   "name": "python",
   "nbconvert_exporter": "python",
   "pygments_lexer": "ipython3",
   "version": "3.7.1"
  }
 },
 "nbformat": 4,
 "nbformat_minor": 2
}
